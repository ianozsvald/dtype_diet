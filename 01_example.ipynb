{
 "cells": [
  {
   "cell_type": "raw",
   "metadata": {},
   "source": [
    "---\n",
    "description: A minimal example to show how to use dtype_type to optimize memory footprint.\n",
    "output-file: example.html\n",
    "title: Minimal Example\n",
    "\n",
    "---\n",
    "\n"
   ]
  },
  {
   "cell_type": "code",
   "execution_count": null,
   "metadata": {},
   "outputs": [
    {
     "name": "stdout",
     "output_type": "stream",
     "text": [
      "The autoreload extension is already loaded. To reload it, use:\n",
      "  %reload_ext autoreload\n"
     ]
    }
   ],
   "source": [
    "#| include: false\n",
    "%load_ext autoreload\n",
    "%autoreload 2\n",
    "\n",
    "from dtype_diet import report_on_dataframe, optimize_dtypes\n",
    "import pandas as pd"
   ]
  },
  {
   "cell_type": "code",
   "execution_count": null,
   "metadata": {},
   "outputs": [
    {
     "name": "stdout",
     "output_type": "stream",
     "text": [
      "<class 'pandas.core.frame.DataFrame'>\n",
      "RangeIndex: 6841121 entries, 0 to 6841120\n",
      "Data columns (total 4 columns):\n",
      " #   Column      Dtype  \n",
      "---  ------      -----  \n",
      " 0   store_id    object \n",
      " 1   item_id     object \n",
      " 2   wm_yr_wk    int64  \n",
      " 3   sell_price  float64\n",
      "dtypes: float64(1), int64(1), object(2)\n",
      "memory usage: 957.5 MB\n"
     ]
    }
   ],
   "source": [
    "#| slow\n",
    "# sell_prices.csv.zip \n",
    "# Source data: https://www.kaggle.com/c/m5-forecasting-uncertainty/\n",
    "df = pd.read_csv('data/sell_prices.csv')\n",
    "df.info(memory_usage='deep')"
   ]
  },
  {
   "cell_type": "code",
   "execution_count": null,
   "metadata": {},
   "outputs": [],
   "source": [
    "#| slow\n",
    "proposed_df = report_on_dataframe(df, unit=\"MB\")"
   ]
  },
  {
   "cell_type": "code",
   "execution_count": null,
   "metadata": {},
   "outputs": [
    {
     "data": {
      "text/html": [
       "<div>\n",
       "<style scoped>\n",
       "    .dataframe tbody tr th:only-of-type {\n",
       "        vertical-align: middle;\n",
       "    }\n",
       "\n",
       "    .dataframe tbody tr th {\n",
       "        vertical-align: top;\n",
       "    }\n",
       "\n",
       "    .dataframe thead th {\n",
       "        text-align: right;\n",
       "    }\n",
       "</style>\n",
       "<table border=\"1\" class=\"dataframe\">\n",
       "  <thead>\n",
       "    <tr style=\"text-align: right;\">\n",
       "      <th></th>\n",
       "      <th>Current dtype</th>\n",
       "      <th>Proposed dtype</th>\n",
       "      <th>Current Memory (MB)</th>\n",
       "      <th>Proposed Memory (MB)</th>\n",
       "      <th>Ram Usage Improvement (MB)</th>\n",
       "      <th>Ram Usage Improvement (%)</th>\n",
       "    </tr>\n",
       "    <tr>\n",
       "      <th>Column</th>\n",
       "      <th></th>\n",
       "      <th></th>\n",
       "      <th></th>\n",
       "      <th></th>\n",
       "      <th></th>\n",
       "      <th></th>\n",
       "    </tr>\n",
       "  </thead>\n",
       "  <tbody>\n",
       "    <tr>\n",
       "      <th>store_id</th>\n",
       "      <td>object</td>\n",
       "      <td>category</td>\n",
       "      <td>203763.920410</td>\n",
       "      <td>3340.907715</td>\n",
       "      <td>200423.012695</td>\n",
       "      <td>98.360403</td>\n",
       "    </tr>\n",
       "    <tr>\n",
       "      <th>item_id</th>\n",
       "      <td>object</td>\n",
       "      <td>category</td>\n",
       "      <td>233039.977539</td>\n",
       "      <td>6824.677734</td>\n",
       "      <td>226215.299805</td>\n",
       "      <td>97.071456</td>\n",
       "    </tr>\n",
       "    <tr>\n",
       "      <th>wm_yr_wk</th>\n",
       "      <td>int64</td>\n",
       "      <td>int16</td>\n",
       "      <td>26723.191406</td>\n",
       "      <td>6680.844727</td>\n",
       "      <td>20042.346680</td>\n",
       "      <td>74.999825</td>\n",
       "    </tr>\n",
       "    <tr>\n",
       "      <th>sell_price</th>\n",
       "      <td>float64</td>\n",
       "      <td>None</td>\n",
       "      <td>26723.191406</td>\n",
       "      <td>NaN</td>\n",
       "      <td>NaN</td>\n",
       "      <td>NaN</td>\n",
       "    </tr>\n",
       "  </tbody>\n",
       "</table>\n",
       "</div>"
      ],
      "text/plain": [
       "           Current dtype Proposed dtype  Current Memory (MB)  \\\n",
       "Column                                                         \n",
       "store_id          object       category        203763.920410   \n",
       "item_id           object       category        233039.977539   \n",
       "wm_yr_wk           int64          int16         26723.191406   \n",
       "sell_price       float64           None         26723.191406   \n",
       "\n",
       "            Proposed Memory (MB)  Ram Usage Improvement (MB)  \\\n",
       "Column                                                         \n",
       "store_id             3340.907715               200423.012695   \n",
       "item_id              6824.677734               226215.299805   \n",
       "wm_yr_wk             6680.844727                20042.346680   \n",
       "sell_price                   NaN                         NaN   \n",
       "\n",
       "            Ram Usage Improvement (%)  \n",
       "Column                                 \n",
       "store_id                    98.360403  \n",
       "item_id                     97.071456  \n",
       "wm_yr_wk                    74.999825  \n",
       "sell_price                        NaN  "
      ]
     },
     "execution_count": null,
     "metadata": {},
     "output_type": "execute_result"
    }
   ],
   "source": [
    "#| slow\n",
    "proposed_df"
   ]
  },
  {
   "cell_type": "markdown",
   "metadata": {},
   "source": [
    "It shows potential dtypes for conversion, you should review if it will cause overflow issue in the future and modify accordingly if needed. "
   ]
  },
  {
   "cell_type": "code",
   "execution_count": null,
   "metadata": {},
   "outputs": [],
   "source": [
    "#| slow\n",
    "new_df = optimize_dtypes(df, proposed_df)"
   ]
  },
  {
   "cell_type": "markdown",
   "metadata": {},
   "source": [
    "optimize_dtypes take your `df` and the `proposed_df` as an argument to convert the dataframe to the proposed dtypes."
   ]
  },
  {
   "cell_type": "code",
   "execution_count": null,
   "metadata": {},
   "outputs": [
    {
     "name": "stdout",
     "output_type": "stream",
     "text": [
      "Original df memory: 957.5197134017944 MB\n",
      "Propsed df memory: 85.09655094146729 MB\n"
     ]
    }
   ],
   "source": [
    "#| slow\n",
    "print(f'Original df memory: {df.memory_usage(deep=True).sum()/1024/1024} MB')\n",
    "print(f'Propsed df memory: {new_df.memory_usage(deep=True).sum()/1024/1024} MB')"
   ]
  }
 ],
 "metadata": {
  "kernelspec": {
   "display_name": "Python 3",
   "language": "python",
   "name": "python3"
  }
 },
 "nbformat": 4,
 "nbformat_minor": 2
}
