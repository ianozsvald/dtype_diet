{
 "cells": [
  {
   "cell_type": "raw",
   "metadata": {},
   "source": [
    "---\n",
    "description: Attempt to shrink Pandas `dtypes` without losing data so you have more\n",
    "  RAM (and maybe more speed)\n",
    "output-file: index.html\n",
    "title: dtype_diet\n",
    "\n",
    "---\n",
    "\n"
   ]
  },
  {
   "cell_type": "code",
   "execution_count": null,
   "metadata": {},
   "outputs": [],
   "source": [
    "#| include: false\n",
    "from dtype_diet.core import *"
   ]
  },
  {
   "cell_type": "markdown",
   "metadata": {},
   "source": [
    "This file will become your README and also the index of your documentation."
   ]
  },
  {
   "cell_type": "markdown",
   "metadata": {},
   "source": [
    "## Install"
   ]
  },
  {
   "cell_type": "markdown",
   "metadata": {},
   "source": [
    "`pip install dtype_diet`"
   ]
  },
  {
   "cell_type": "markdown",
   "metadata": {},
   "source": [
    "# Documentation\n",
    "https://noklam.github.io/dtype_diet/"
   ]
  },
  {
   "cell_type": "markdown",
   "metadata": {},
   "source": [
    "## How to use"
   ]
  },
  {
   "cell_type": "markdown",
   "metadata": {},
   "source": [
    "> This is a fork of https://github.com/ianozsvald/dtype_diet to continue supoprt and develop the library with approval from the original author @ianozsvald.\n",
    "\n",
    "\n",
    "This tool checks each column to see if larger dtypes (e.g. 8 byte `float64` and `int64`) could be shrunk to smaller `dtypes` without causing any data loss. \n",
    "Dropping an 8 byte type to a 4 (or 2 or 1 byte) type will keep halving the RAM requirement for that column.  Categoricals are proposed for `object` columns which can bring significant speed and RAM benefits.\n",
    "\n",
    "\n",
    "Here's an minimal example with 3 lines of code running on a Kaggle dataset showing a reduction of 957 -> 85MB, you can find the notebook in the [repository](https://github.com/noklam/dtype_diet/01_example.ipynb):"
   ]
  },
  {
   "cell_type": "code",
   "execution_count": null,
   "metadata": {},
   "outputs": [
    {
     "name": "stdout",
     "output_type": "stream",
     "text": [
      "Original df memory: 957.5197134017944 MB\n",
      "Propsed df memory: 85.09655094146729 MB\n"
     ]
    }
   ],
   "source": [
    "#| slow\n",
    "# sell_prices.csv.zip \n",
    "# Source data: https://www.kaggle.com/c/m5-forecasting-uncertainty/\n",
    "import pandas as pd\n",
    "from dtype_diet import report_on_dataframe, optimize_dtypes\n",
    "df = pd.read_csv('data/sell_prices.csv')\n",
    "proposed_df = report_on_dataframe(df, unit=\"MB\")\n",
    "new_df = optimize_dtypes(df, proposed_df)\n",
    "print(f'Original df memory: {df.memory_usage(deep=True).sum()/1024/1024} MB')\n",
    "print(f'Propsed df memory: {new_df.memory_usage(deep=True).sum()/1024/1024} MB')"
   ]
  },
  {
   "cell_type": "code",
   "execution_count": null,
   "metadata": {},
   "outputs": [
    {
     "data": {
      "text/html": [
       "<div>\n",
       "<style scoped>\n",
       "    .dataframe tbody tr th:only-of-type {\n",
       "        vertical-align: middle;\n",
       "    }\n",
       "\n",
       "    .dataframe tbody tr th {\n",
       "        vertical-align: top;\n",
       "    }\n",
       "\n",
       "    .dataframe thead th {\n",
       "        text-align: right;\n",
       "    }\n",
       "</style>\n",
       "<table border=\"1\" class=\"dataframe\">\n",
       "  <thead>\n",
       "    <tr style=\"text-align: right;\">\n",
       "      <th></th>\n",
       "      <th>Current dtype</th>\n",
       "      <th>Proposed dtype</th>\n",
       "      <th>Current Memory (MB)</th>\n",
       "      <th>Proposed Memory (MB)</th>\n",
       "      <th>Ram Usage Improvement (MB)</th>\n",
       "      <th>Ram Usage Improvement (%)</th>\n",
       "    </tr>\n",
       "    <tr>\n",
       "      <th>Column</th>\n",
       "      <th></th>\n",
       "      <th></th>\n",
       "      <th></th>\n",
       "      <th></th>\n",
       "      <th></th>\n",
       "      <th></th>\n",
       "    </tr>\n",
       "  </thead>\n",
       "  <tbody>\n",
       "    <tr>\n",
       "      <th>store_id</th>\n",
       "      <td>object</td>\n",
       "      <td>category</td>\n",
       "      <td>203763.920410</td>\n",
       "      <td>3340.907715</td>\n",
       "      <td>200423.012695</td>\n",
       "      <td>98.360403</td>\n",
       "    </tr>\n",
       "    <tr>\n",
       "      <th>item_id</th>\n",
       "      <td>object</td>\n",
       "      <td>category</td>\n",
       "      <td>233039.977539</td>\n",
       "      <td>6824.677734</td>\n",
       "      <td>226215.299805</td>\n",
       "      <td>97.071456</td>\n",
       "    </tr>\n",
       "    <tr>\n",
       "      <th>wm_yr_wk</th>\n",
       "      <td>int64</td>\n",
       "      <td>int16</td>\n",
       "      <td>26723.191406</td>\n",
       "      <td>6680.844727</td>\n",
       "      <td>20042.346680</td>\n",
       "      <td>74.999825</td>\n",
       "    </tr>\n",
       "    <tr>\n",
       "      <th>sell_price</th>\n",
       "      <td>float64</td>\n",
       "      <td>None</td>\n",
       "      <td>26723.191406</td>\n",
       "      <td>NaN</td>\n",
       "      <td>NaN</td>\n",
       "      <td>NaN</td>\n",
       "    </tr>\n",
       "  </tbody>\n",
       "</table>\n",
       "</div>"
      ],
      "text/plain": [
       "           Current dtype Proposed dtype  Current Memory (MB)  \\\n",
       "Column                                                         \n",
       "store_id          object       category        203763.920410   \n",
       "item_id           object       category        233039.977539   \n",
       "wm_yr_wk           int64          int16         26723.191406   \n",
       "sell_price       float64           None         26723.191406   \n",
       "\n",
       "            Proposed Memory (MB)  Ram Usage Improvement (MB)  \\\n",
       "Column                                                         \n",
       "store_id             3340.907715               200423.012695   \n",
       "item_id              6824.677734               226215.299805   \n",
       "wm_yr_wk             6680.844727                20042.346680   \n",
       "sell_price                   NaN                         NaN   \n",
       "\n",
       "            Ram Usage Improvement (%)  \n",
       "Column                                 \n",
       "store_id                    98.360403  \n",
       "item_id                     97.071456  \n",
       "wm_yr_wk                    74.999825  \n",
       "sell_price                        NaN  "
      ]
     },
     "execution_count": null,
     "metadata": {},
     "output_type": "execute_result"
    }
   ],
   "source": [
    "#| slow\n",
    "proposed_df"
   ]
  },
  {
   "cell_type": "markdown",
   "metadata": {},
   "source": [
    "Recommendations:\n",
    "\n",
    "* Run `report_on_dataframe(your_df)` to get recommendations\n",
    "* Run `optimize_dtypes(df, proposed_df)` to convert to recommeded dtypes.\n",
    "* Consider if Categoricals will save you RAM (see Caveats below)\n",
    "* Consider if f32 or f16 will be useful (see Caveats - f32 is _probably_ a reasonable choice unless you have huge ranges of floats)\n",
    "* Consider if int32, int16, int8 will be useful (see Caveats - overflow may be an issue)\n",
    "* Look at https://pandas.pydata.org/pandas-docs/stable/reference/api/pandas.DataFrame.convert_dtypes.html which recommends Pandas nullable dtype alternatives (e.g. to avoid promoting an int64 with NaN items to float64, instead you get Int64 with NaNs and no data loss)\n",
    "* Look at Extension arrays like https://github.com/JDASoftwareGroup/rle-array (thanks @repererum [for the tweet](https://twitter.com/crepererum/status/1267441357339201536))\n",
    "\n",
    "Look at `report_on_dataframe(your_df)` to get a printed report - no changes are made to your dataframe."
   ]
  },
  {
   "cell_type": "markdown",
   "metadata": {},
   "source": [
    "## Caveats\n",
    "\n",
    "* reduced numeric ranges might lead to overflow (TODO document)\n",
    "* category dtype can have unexpected effects e.g. need for observed=True in groupby (TODO document)\n",
    "* f16 is likely to be simulated on modern hardware so calculations will be 2-3* slower than on f32 or f64\n",
    "* we could do with a link that explains binary representation of float & int for those wanting to learn more\n",
    "\n",
    "## Development \n",
    "\n",
    "\n",
    "### Contributors\n",
    "\n",
    "* Antony Milbourne https://github.com/amilbourne\n",
    "* Mani https://github.com/neomatrix369\n",
    "\n",
    "### Local Setup\n",
    "\n",
    "```\n",
    "$ conda create -n dtype_diet python=3.8 pandas jupyter pyarrow pytest\n",
    "$ conda activate dtype_diet\n",
    "```\n",
    "\n",
    "## Release\n",
    "```\n",
    "make release\n",
    "```\n",
    "# Contributing\n",
    "The repository is developed with `nbdev`, a system for developing library with notebook.\n",
    "\n",
    "Make sure you run this if you want to contribute to the library. For details, please refer to nbdev documentation (https://github.com/fastai/nbdev)\n",
    "```\n",
    "nbdev_install_git_hooks\n",
    "```\n",
    "\n",
    "Some other useful commands\n",
    "```\n",
    "nbdev_build_docs\n",
    "nbdev_build_lib\n",
    "nbdev_test_nbs\n",
    "```"
   ]
  }
 ],
 "metadata": {
  "kernelspec": {
   "display_name": "Python 3",
   "language": "python",
   "name": "python3"
  }
 },
 "nbformat": 4,
 "nbformat_minor": 2
}
